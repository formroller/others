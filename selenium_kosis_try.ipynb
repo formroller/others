{
 "cells": [
  {
   "cell_type": "code",
   "execution_count": 101,
   "metadata": {},
   "outputs": [],
   "source": [
    "from selenium import webdriver\n",
    "from selenium.webdriver.common.by import By\n",
    "import requests\n",
    "from bs4 import BeautifulSoup\n",
    "import time\n",
    "import re\n",
    "\n",
    "import pandas as pd\n",
    "import numpy as np\n",
    "\n",
    "import csv"
   ]
  },
  {
   "cell_type": "code",
   "execution_count": 147,
   "metadata": {},
   "outputs": [],
   "source": [
    "chromedriver = ('./chromedriver.exe')\n",
    "driver = webdriver.Chrome(chromedriver)\n",
    "driver.get('https://kosis.kr/statisticsList/statisticsListIndex.do?menuId=M_01_01&vwcd=MT_ZTITLE&parmTabId=M_01_01#SelectStatsBoxDiv')\n",
    "\n"
   ]
  },
  {
   "cell_type": "code",
   "execution_count": 148,
   "metadata": {},
   "outputs": [],
   "source": [
    "driver.find_element_by_xpath('//*[@id=\"F.1\"]/a').click()"
   ]
  },
  {
   "cell_type": "code",
   "execution_count": 92,
   "metadata": {
    "scrolled": false
   },
   "outputs": [
    {
     "name": "stdout",
     "output_type": "stream",
     "text": [
      "['보건', 'HIV/AIDS신고현황', 'HIV 감염 내국인 성별 연령 현황 년 1985~2019', 'HIV 생존 감염 내국인 성별, 연령 현황 년 2012~2019', 'HIV 감염 내국인 성별 감염경로 현황 년 1985~2019', 'HIV 감염 내국인 성별 검사동기 현황 년 1985~2019', 'HIV 감염 검사기관 현황 년 1985~2019', 'HIV 감염 내국인 성별 CD4+ T세포수 현황 년 1985~2019', 'HIV 감염 익명 신고 추이 년 2003~2019', 'HIV 감염 내국인 성별, 연령별 감염경로(1985~2011) 년 2011~2011', '건강검진통계', '건강기능식품산업현황', '건강보험주요수술통계', '건강보험통계', '건강보험환자진료비실태조사', '결핵환자신고현황', '공공의료기관현황', '공중위생영업소실태보고', '국가정신건강현황', '국민건강영양조사', '국민보건계정', '비급여진료비용및제증명수수료통계', '국민보건의료실태통계', '국민체력측정통계', '근로자건강진단실시상황보고', '급성심장정지조사', '급여의약품청구현황', '법정감염병발생보고', '보건소및보건지소운영현황', '보건의료질통계', '사망원인통계', '산후조리실태조사', '생명표', '수입식품현황', '식생활관리현황', '위생용품산업현황', '식품및식품첨가물생산실적', '식품수거검사실적', '아동구강건강실태조사', '암등록통계', '어린이식생활안전지수', '완제의약품유통정보통계', '위생용품산업현황', '응급의료현황통계', '의료급여통계', '의료기관별급여적정성평가현황', '의료기기생산실적', '의료서비스경험조사', '의료서비스이용현황', '의료용마약류취급현황', '의약품생산및수출수입실적', '의약품소비량및판매액통계', '장애인건강보건통계', '전국예방접종률현황', '전국출산력및가족보건복지실태조사', '정신질환실태조사', '지역별의료이용통계', '지역사회건강조사', '청소년건강행태조사', '퇴원손상심층조사', '학생건강검사통계보고', '한국의료패널조사', '한국인인체치수조사', '한방의료이용및한약소비실태조사', '한의약산업실태조사', '항노화제조산업실태조사', '혈액정보통계', '화장품산업현황']\n"
     ]
    }
   ],
   "source": [
    "category = driver.find_elements_by_css_selector('#statis_list > ul li')[5].text.split('\\n')\n",
    "print(category)\n",
    "\n"
   ]
  },
  {
   "cell_type": "code",
   "execution_count": 141,
   "metadata": {},
   "outputs": [],
   "source": [
    "\n",
    "\n",
    "driver.find_elements_by_css_selector('#F_7\\.2 > button.BtnClose')[0].click()\n"
   ]
  },
  {
   "cell_type": "code",
   "execution_count": 150,
   "metadata": {},
   "outputs": [
    {
     "ename": "IndexError",
     "evalue": "list index out of range",
     "output_type": "error",
     "traceback": [
      "\u001b[1;31m---------------------------------------------------------------------------\u001b[0m",
      "\u001b[1;31mIndexError\u001b[0m                                Traceback (most recent call last)",
      "\u001b[1;32m<ipython-input-150-3c66142c9c53>\u001b[0m in \u001b[0;36m<module>\u001b[1;34m\u001b[0m\n\u001b[0;32m      1\u001b[0m \u001b[1;32mfor\u001b[0m \u001b[0mi\u001b[0m \u001b[1;32min\u001b[0m \u001b[0mrange\u001b[0m\u001b[1;33m(\u001b[0m\u001b[1;36m7\u001b[0m\u001b[1;33m,\u001b[0m\u001b[1;36m64\u001b[0m\u001b[1;33m)\u001b[0m\u001b[1;33m:\u001b[0m\u001b[1;33m\u001b[0m\u001b[1;33m\u001b[0m\u001b[0m\n\u001b[1;32m----> 2\u001b[1;33m     \u001b[0mdriver\u001b[0m\u001b[1;33m.\u001b[0m\u001b[0mfind_elements_by_css_selector\u001b[0m\u001b[1;33m(\u001b[0m\u001b[1;34mf'#F_{i}\\.2 > button.BtnClose'\u001b[0m\u001b[1;33m)\u001b[0m\u001b[1;33m[\u001b[0m\u001b[1;36m0\u001b[0m\u001b[1;33m]\u001b[0m\u001b[1;33m.\u001b[0m\u001b[0mclick\u001b[0m\u001b[1;33m(\u001b[0m\u001b[1;33m)\u001b[0m\u001b[1;33m\u001b[0m\u001b[1;33m\u001b[0m\u001b[0m\n\u001b[0m\u001b[0;32m      3\u001b[0m     \u001b[0mtime\u001b[0m\u001b[1;33m.\u001b[0m\u001b[0msleep\u001b[0m\u001b[1;33m(\u001b[0m\u001b[1;36m1\u001b[0m\u001b[1;33m)\u001b[0m\u001b[1;33m\u001b[0m\u001b[1;33m\u001b[0m\u001b[0m\n\u001b[0;32m      4\u001b[0m \u001b[1;33m\u001b[0m\u001b[0m\n\u001b[0;32m      5\u001b[0m \u001b[0mdriver\u001b[0m\u001b[1;33m.\u001b[0m\u001b[0mfind_elements_by_css_selector\u001b[0m\u001b[1;33m(\u001b[0m\u001b[1;34m'#D1_117100_001.2 > button.BtnClose'\u001b[0m\u001b[1;33m)\u001b[0m\u001b[1;33m[\u001b[0m\u001b[1;36m0\u001b[0m\u001b[1;33m]\u001b[0m\u001b[1;33m.\u001b[0m\u001b[0mclick\u001b[0m\u001b[1;33m(\u001b[0m\u001b[1;33m)\u001b[0m\u001b[1;33m\u001b[0m\u001b[1;33m\u001b[0m\u001b[0m\n",
      "\u001b[1;31mIndexError\u001b[0m: list index out of range"
     ]
    }
   ],
   "source": [
    "\n",
    "for i in range(7,64):\n",
    "    driver.find_elements_by_css_selector(f'#F_{i}\\.2 > button.BtnClose')[0].click()\n",
    "    time.sleep(1)\n",
    "    \n",
    "driver.find_elements_by_css_selector('#D1_117100_001.2 > button.BtnClose')[0].click()\n",
    "driver.find_elements_by_css_selector('#F_003.2 > button.BtnClose')[0].click()\n",
    "driver.find_elements_by_css_selector('#F_001.2 > button.BtnClose')[0].click()\n",
    "driver.find_elements_by_css_selector('#D1_117100_001.2 > button.BtnClose')[0].click()\n",
    "        \n",
    "    "
   ]
  },
  {
   "cell_type": "code",
   "execution_count": 99,
   "metadata": {
    "scrolled": true
   },
   "outputs": [
    {
     "name": "stdout",
     "output_type": "stream",
     "text": [
      "[]\n"
     ]
    }
   ],
   "source": [
    "roll = driver.find_elements_by_id('[F]_\\.')\n",
    "print(roll)"
   ]
  },
  {
   "cell_type": "code",
   "execution_count": null,
   "metadata": {},
   "outputs": [],
   "source": []
  },
  {
   "cell_type": "code",
   "execution_count": 94,
   "metadata": {},
   "outputs": [],
   "source": [
    "roll[0].click()"
   ]
  }
 ],
 "metadata": {
  "kernelspec": {
   "display_name": "Python 3",
   "language": "python",
   "name": "python3"
  },
  "language_info": {
   "codemirror_mode": {
    "name": "ipython",
    "version": 3
   },
   "file_extension": ".py",
   "mimetype": "text/x-python",
   "name": "python",
   "nbconvert_exporter": "python",
   "pygments_lexer": "ipython3",
   "version": "3.8.5"
  }
 },
 "nbformat": 4,
 "nbformat_minor": 4
}
